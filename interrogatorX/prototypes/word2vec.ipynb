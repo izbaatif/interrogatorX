{
 "cells": [
  {
   "cell_type": "markdown",
   "id": "e0dee148",
   "metadata": {},
   "source": [
    "<html>\n",
    "    <body>\n",
    "            <p> We will first start by importing the libraries required and import our dataset. The data may have some empty fields and those will need to be removed to get a better model. The dataset used is the following : <a href=\"https://www.kaggle.com/datasets/jruvika/fake-news-detection\"> fake_news.csv </a></p>\n",
    "    </body>\n",
    "</html>"
   ]
  },
  {
   "cell_type": "code",
   "execution_count": 1,
   "id": "08678172",
   "metadata": {},
   "outputs": [],
   "source": [
    "import pandas as pd\n",
    "import numpy as np\n",
    "import gensim\n",
    "from sklearn.model_selection import train_test_split"
   ]
  },
  {
   "cell_type": "code",
   "execution_count": 2,
   "id": "c1332a02",
   "metadata": {},
   "outputs": [],
   "source": [
    "#save data in dataframe\n",
    "df = pd.read_csv('data.csv')"
   ]
  },
  {
   "cell_type": "code",
   "execution_count": 3,
   "id": "88faf33f",
   "metadata": {},
   "outputs": [
    {
     "data": {
      "text/html": [
       "<div>\n",
       "<style scoped>\n",
       "    .dataframe tbody tr th:only-of-type {\n",
       "        vertical-align: middle;\n",
       "    }\n",
       "\n",
       "    .dataframe tbody tr th {\n",
       "        vertical-align: top;\n",
       "    }\n",
       "\n",
       "    .dataframe thead th {\n",
       "        text-align: right;\n",
       "    }\n",
       "</style>\n",
       "<table border=\"1\" class=\"dataframe\">\n",
       "  <thead>\n",
       "    <tr style=\"text-align: right;\">\n",
       "      <th></th>\n",
       "      <th>Headline</th>\n",
       "      <th>Body</th>\n",
       "      <th>Label</th>\n",
       "    </tr>\n",
       "  </thead>\n",
       "  <tbody>\n",
       "    <tr>\n",
       "      <th>0</th>\n",
       "      <td>Four ways Bob Corker skewered Donald Trump</td>\n",
       "      <td>Image copyright Getty Images\\nOn Sunday mornin...</td>\n",
       "      <td>1</td>\n",
       "    </tr>\n",
       "    <tr>\n",
       "      <th>1</th>\n",
       "      <td>Linklater's war veteran comedy speaks to moder...</td>\n",
       "      <td>LONDON (Reuters) - “Last Flag Flying”, a comed...</td>\n",
       "      <td>1</td>\n",
       "    </tr>\n",
       "    <tr>\n",
       "      <th>2</th>\n",
       "      <td>Trump’s Fight With Corker Jeopardizes His Legi...</td>\n",
       "      <td>The feud broke into public view last week when...</td>\n",
       "      <td>1</td>\n",
       "    </tr>\n",
       "    <tr>\n",
       "      <th>3</th>\n",
       "      <td>Egypt's Cheiron wins tie-up with Pemex for Mex...</td>\n",
       "      <td>MEXICO CITY (Reuters) - Egypt’s Cheiron Holdin...</td>\n",
       "      <td>1</td>\n",
       "    </tr>\n",
       "    <tr>\n",
       "      <th>4</th>\n",
       "      <td>Jason Aldean opens 'SNL' with Vegas tribute</td>\n",
       "      <td>Country singer Jason Aldean, who was performin...</td>\n",
       "      <td>1</td>\n",
       "    </tr>\n",
       "  </tbody>\n",
       "</table>\n",
       "</div>"
      ],
      "text/plain": [
       "                                            Headline  \\\n",
       "0         Four ways Bob Corker skewered Donald Trump   \n",
       "1  Linklater's war veteran comedy speaks to moder...   \n",
       "2  Trump’s Fight With Corker Jeopardizes His Legi...   \n",
       "3  Egypt's Cheiron wins tie-up with Pemex for Mex...   \n",
       "4        Jason Aldean opens 'SNL' with Vegas tribute   \n",
       "\n",
       "                                                Body  Label  \n",
       "0  Image copyright Getty Images\\nOn Sunday mornin...      1  \n",
       "1  LONDON (Reuters) - “Last Flag Flying”, a comed...      1  \n",
       "2  The feud broke into public view last week when...      1  \n",
       "3  MEXICO CITY (Reuters) - Egypt’s Cheiron Holdin...      1  \n",
       "4  Country singer Jason Aldean, who was performin...      1  "
      ]
     },
     "execution_count": 3,
     "metadata": {},
     "output_type": "execute_result"
    }
   ],
   "source": [
    "#keep just label, headline and body\n",
    "df = df[['Headline' , 'Body' , 'Label']].copy()\n",
    "df.head()"
   ]
  },
  {
   "cell_type": "code",
   "execution_count": 4,
   "id": "9bc54802",
   "metadata": {},
   "outputs": [],
   "source": [
    "#remove empty rows\n",
    "df = df.dropna()"
   ]
  },
  {
   "cell_type": "code",
   "execution_count": 8,
   "id": "8debd298",
   "metadata": {},
   "outputs": [],
   "source": [
    "# Split the data into training and testing sets\n",
    "train_df, test_df = train_test_split(df, test_size=0.2, random_state=7)"
   ]
  },
  {
   "cell_type": "code",
   "execution_count": 9,
   "id": "57a74226",
   "metadata": {},
   "outputs": [],
   "source": [
    "#tokenizes each word\n",
    "tokenized_text = [text.split() for text in df['Body']]\n",
    "#creates a new word2vec model with size of 100\n",
    "word2vec_model = gensim.models.Word2Vec(tokenized_text, vector_size=200, window=10, min_count=20)"
   ]
  },
  {
   "cell_type": "code",
   "execution_count": 10,
   "id": "834cb71c",
   "metadata": {},
   "outputs": [],
   "source": [
    "#function to get average word vector representation\n",
    "#takes as input the list, pretrained model , unique words in models vocab and dimensionality of vectors\n",
    "def average_word_vectors(words, model, vocabulary, num_features):\n",
    "    #creates a vector with 0s of the lenght of numfeatures\n",
    "    feature_vector = np.zeros((num_features,), dtype=\"float64\")\n",
    "    #nwords keep track of words\n",
    "    nwords = 0.\n",
    "    #iterate over list\n",
    "    for word in words:\n",
    "        #if word is in model, increase nword\n",
    "        if word in vocabulary:\n",
    "            nwords += 1\n",
    "            #add the word to the vector with 0s\n",
    "            feature_vector = np.add(feature_vector, model.wv[word])\n",
    "    #check if nwords is now greater than 0 and if so calculate average\n",
    "    if nwords > 0:\n",
    "        feature_vector = np.divide(feature_vector, nwords)\n",
    "    #return the vector\n",
    "    return feature_vector"
   ]
  },
  {
   "cell_type": "code",
   "execution_count": 11,
   "id": "0784cd87",
   "metadata": {},
   "outputs": [],
   "source": [
    "# Extract features for training data\n",
    "#empty array to store\n",
    "train_data = []\n",
    "#iterates over train df\n",
    "for _, row in train_df.iterrows():\n",
    "    #apply the function of text column and adds it to the array\n",
    "    features= average_word_vectors(row['Body'].split(), word2vec_model, word2vec_model.wv.key_to_index, 200)\n",
    "    train_data.append(features)\n",
    "#make a new array with labels of train_df\n",
    "train_labels = train_df['Label']"
   ]
  },
  {
   "cell_type": "code",
   "execution_count": 12,
   "id": "2d035adc",
   "metadata": {},
   "outputs": [],
   "source": [
    "# Repeat process for test data\n",
    "#empty array to store\n",
    "test_data = []\n",
    "#iterates over train df\n",
    "for _, row in test_df.iterrows():\n",
    "    #apply the function of text column and adds it to the array\n",
    "    features= average_word_vectors(row['Body'].split(), word2vec_model, word2vec_model.wv.key_to_index, 200)\n",
    "    test_data.append(features)\n",
    "#make a new array with labels of test_df\n",
    "test_labels = test_df['Label']"
   ]
  },
  {
   "cell_type": "code",
   "execution_count": null,
   "id": "6c42f86d",
   "metadata": {},
   "outputs": [],
   "source": []
  }
 ],
 "metadata": {
  "kernelspec": {
   "display_name": "Python 3 (ipykernel)",
   "language": "python",
   "name": "python3"
  },
  "language_info": {
   "codemirror_mode": {
    "name": "ipython",
    "version": 3
   },
   "file_extension": ".py",
   "mimetype": "text/x-python",
   "name": "python",
   "nbconvert_exporter": "python",
   "pygments_lexer": "ipython3",
   "version": "3.9.13"
  }
 },
 "nbformat": 4,
 "nbformat_minor": 5
}
