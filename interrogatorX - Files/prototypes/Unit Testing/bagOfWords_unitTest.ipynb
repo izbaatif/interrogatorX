{
 "cells": [
  {
   "cell_type": "code",
   "execution_count": 1,
   "id": "45be990e",
   "metadata": {},
   "outputs": [
    {
     "name": "stderr",
     "output_type": "stream",
     "text": [
      "[nltk_data] Downloading package wordnet to\n",
      "[nltk_data]     C:\\Users\\izbaa\\AppData\\Roaming\\nltk_data...\n",
      "[nltk_data]   Package wordnet is already up-to-date!\n"
     ]
    }
   ],
   "source": [
    "import unittest\n",
    "import bagOfWords_functionTest as bag"
   ]
  },
  {
   "cell_type": "code",
   "execution_count": 2,
   "id": "724da978",
   "metadata": {},
   "outputs": [
    {
     "name": "stderr",
     "output_type": "stream",
     "text": [
      "test_tokens (__main__.TestsForTokens) ... ERROR\n",
      "\n",
      "======================================================================\n",
      "ERROR: test_tokens (__main__.TestsForTokens)\n",
      "----------------------------------------------------------------------\n",
      "Traceback (most recent call last):\n",
      "  File \"C:\\Users\\izbaa\\AppData\\Local\\Temp\\ipykernel_19444\\4108786286.py\", line 5, in test_tokens\n",
      "    res = bag.test_getwords(test_text)\n",
      "AttributeError: module 'bagOfWords_functionTest' has no attribute 'test_getwords'\n",
      "\n",
      "----------------------------------------------------------------------\n",
      "Ran 1 test in 0.001s\n",
      "\n",
      "FAILED (errors=1)\n"
     ]
    },
    {
     "data": {
      "text/plain": [
       "<unittest.main.TestProgram at 0x15d2dc49460>"
      ]
     },
     "execution_count": 2,
     "metadata": {},
     "output_type": "execute_result"
    }
   ],
   "source": [
    "test_text = \"hi this is a test\"\n",
    "\n",
    "class TestsForTokens(unittest.TestCase):\n",
    "    def test_tokens(self):\n",
    "        res = bag.test_getwords(test_text)\n",
    "        self.assertEqual(res, [\"hi\" , \"this\" , \"is\" , \"a\" , \"test\"])\n",
    "unittest.main(argv=['ignored', '-v'], exit=False)"
   ]
  },
  {
   "cell_type": "code",
   "execution_count": 2,
   "id": "2710a7bb",
   "metadata": {},
   "outputs": [
    {
     "name": "stderr",
     "output_type": "stream",
     "text": [
      "test_tokens (__main__.TestsForTokens) ... ok\n",
      "\n",
      "----------------------------------------------------------------------\n",
      "Ran 1 test in 0.001s\n",
      "\n",
      "OK\n"
     ]
    },
    {
     "data": {
      "text/plain": [
       "<unittest.main.TestProgram at 0x20da8b884c0>"
      ]
     },
     "execution_count": 2,
     "metadata": {},
     "output_type": "execute_result"
    }
   ],
   "source": [
    "#minimum passing \n",
    "test_text = \"hi this is test two\"\n",
    "\n",
    "class TestsForTokens(unittest.TestCase):\n",
    "    def test_tokens(self):\n",
    "        res = bag.test_getwords(test_text)\n",
    "        self.assertEqual(res, [\"hi\" , \"this\" , \"is\" , \"test\" , \"two\"])\n",
    "unittest.main(argv=['ignored', '-v'], exit=False)"
   ]
  },
  {
   "cell_type": "code",
   "execution_count": 2,
   "id": "bda1a663",
   "metadata": {},
   "outputs": [
    {
     "name": "stderr",
     "output_type": "stream",
     "text": [
      "test_tokens_one (__main__.TestsForTokens) ... ok\n",
      "test_tokens_two (__main__.TestsForTokens) ... ok\n",
      "\n",
      "----------------------------------------------------------------------\n",
      "Ran 2 tests in 0.002s\n",
      "\n",
      "OK\n"
     ]
    },
    {
     "data": {
      "text/plain": [
       "<unittest.main.TestProgram at 0x15b5d9a7fa0>"
      ]
     },
     "execution_count": 2,
     "metadata": {},
     "output_type": "execute_result"
    }
   ],
   "source": [
    "#all passing\n",
    "test_text_one = \"hi this is test three\"\n",
    "test_text_two = \"everything should pass\"\n",
    "\n",
    "class TestsForTokens(unittest.TestCase):\n",
    "    def test_tokens_one(self):\n",
    "        res = bag.test_getwords(test_text_one)\n",
    "        self.assertEqual(res, [\"hi\" , \"this\" , \"is\" , \"test\" , \"three\"])\n",
    "    def test_tokens_two(self):\n",
    "        res = bag.test_getwords(test_text_two)\n",
    "        self.assertEqual(res, [\"everything\" , \"should\" , \"pass\"])\n",
    "unittest.main(argv=['ignored', '-v'], exit=False)"
   ]
  },
  {
   "cell_type": "code",
   "execution_count": 3,
   "id": "5fc78243",
   "metadata": {},
   "outputs": [
    {
     "name": "stderr",
     "output_type": "stream",
     "text": [
      "test_threshold (__main__.TestsForThreshold) ... ERROR\n",
      "test_tokens_one (__main__.TestsForTokens) ... ok\n",
      "test_tokens_two (__main__.TestsForTokens) ... ok\n",
      "\n",
      "======================================================================\n",
      "ERROR: test_threshold (__main__.TestsForThreshold)\n",
      "----------------------------------------------------------------------\n",
      "Traceback (most recent call last):\n",
      "  File \"C:\\Users\\izbaa\\AppData\\Local\\Temp\\ipykernel_7956\\851460602.py\", line 6, in test_threshold\n",
      "    res = bag.test_common(test_token , threshold)\n",
      "AttributeError: module 'bagOfWords_functionTest' has no attribute 'test_common'\n",
      "\n",
      "----------------------------------------------------------------------\n",
      "Ran 3 tests in 0.003s\n",
      "\n",
      "FAILED (errors=1)\n"
     ]
    },
    {
     "data": {
      "text/plain": [
       "<unittest.main.TestProgram at 0x15b5d9a7070>"
      ]
     },
     "execution_count": 3,
     "metadata": {},
     "output_type": "execute_result"
    }
   ],
   "source": [
    "test_token = \"these\"\n",
    "threshold = 1\n",
    "\n",
    "class TestsForThreshold(unittest.TestCase):\n",
    "    def test_threshold(self):\n",
    "        res = bag.test_common(test_token , threshold)\n",
    "        self.assertEqual(res, True)\n",
    "unittest.main(argv=['ignored', '-v'], exit=False)"
   ]
  },
  {
   "cell_type": "code",
   "execution_count": 2,
   "id": "bc229cfd",
   "metadata": {},
   "outputs": [
    {
     "name": "stderr",
     "output_type": "stream",
     "text": [
      "test_threshold (__main__.TestsForThreshold) ... ok\n",
      "\n",
      "----------------------------------------------------------------------\n",
      "Ran 1 test in 0.001s\n",
      "\n",
      "OK\n"
     ]
    },
    {
     "data": {
      "text/plain": [
       "<unittest.main.TestProgram at 0x20da4109df0>"
      ]
     },
     "execution_count": 2,
     "metadata": {},
     "output_type": "execute_result"
    }
   ],
   "source": [
    "test_token = \"these\"\n",
    "threshold = 1\n",
    "\n",
    "class TestsForThreshold(unittest.TestCase):\n",
    "    def test_threshold(self):\n",
    "        res = bag.test_common(test_token , threshold)\n",
    "        self.assertEqual(res, True)\n",
    "unittest.main(argv=['ignored', '-v'], exit=False)"
   ]
  },
  {
   "cell_type": "code",
   "execution_count": 3,
   "id": "a7eaa3b4",
   "metadata": {},
   "outputs": [
    {
     "name": "stderr",
     "output_type": "stream",
     "text": [
      "test_threshold_one (__main__.TestsForThreshold) ... ok\n",
      "test_threshold_two (__main__.TestsForThreshold) ... ok\n",
      "\n",
      "----------------------------------------------------------------------\n",
      "Ran 2 tests in 0.002s\n",
      "\n",
      "OK\n"
     ]
    },
    {
     "data": {
      "text/plain": [
       "<unittest.main.TestProgram at 0x1760cee6700>"
      ]
     },
     "execution_count": 3,
     "metadata": {},
     "output_type": "execute_result"
    }
   ],
   "source": [
    "test_token_one = \"these\"\n",
    "test_token_two = \"random\"\n",
    "threshold = 2\n",
    "\n",
    "class TestsForThreshold(unittest.TestCase):\n",
    "    def test_threshold_one(self):\n",
    "        res = bag.test_common(test_token_one , threshold)\n",
    "        self.assertEqual(res, True)\n",
    "    def test_threshold_two(self):\n",
    "        res = bag.test_common(test_token_two , threshold)\n",
    "        self.assertEqual(res, False)\n",
    "unittest.main(argv=['ignored', '-v'], exit=False)"
   ]
  },
  {
   "cell_type": "code",
   "execution_count": null,
   "id": "a00f64e9",
   "metadata": {},
   "outputs": [],
   "source": []
  }
 ],
 "metadata": {
  "kernelspec": {
   "display_name": "Python 3 (ipykernel)",
   "language": "python",
   "name": "python3"
  },
  "language_info": {
   "codemirror_mode": {
    "name": "ipython",
    "version": 3
   },
   "file_extension": ".py",
   "mimetype": "text/x-python",
   "name": "python",
   "nbconvert_exporter": "python",
   "pygments_lexer": "ipython3",
   "version": "3.9.13"
  }
 },
 "nbformat": 4,
 "nbformat_minor": 5
}
